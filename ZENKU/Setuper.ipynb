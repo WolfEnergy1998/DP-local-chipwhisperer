{
 "cells": [
  {
   "cell_type": "markdown",
   "id": "b6dfd3fd-7a51-40d4-b538-0959fdf092ca",
   "metadata": {},
   "source": [
    "## **1. Setup**\n",
    "\n",
    "\n",
    "---\n",
    "\n"
   ]
  },
  {
   "cell_type": "code",
   "execution_count": 4,
   "id": "3855f675-eb92-4da8-9d43-ec462e484fc1",
   "metadata": {},
   "outputs": [],
   "source": [
    "scope = None\n",
    "target = None"
   ]
  },
  {
   "cell_type": "code",
   "execution_count": null,
   "id": "4fbce8e3-f7c4-4d6a-abb8-1994261ce034",
   "metadata": {
    "editable": true,
    "slideshow": {
     "slide_type": ""
    },
    "tags": []
   },
   "outputs": [],
   "source": [
    "import chipwhisperer as cw\n",
    "import time\n",
    "class CW_Setuper:\n",
    "    # Param. for chipwhisperer initialization\n",
    "    hardware_dir = '../../../'                                                              # path to the imported /hardware/victims/firmware folder\n",
    "    chipwhisperer_init : dict = {\n",
    "        \"SCOPETYPE\" : 'OPENADC',                                                            # Scope type ...\n",
    "\n",
    "        \"MAKEDIR\" : './makefile_dir_2/',                                                    # Makefile folder relative path\n",
    "        \"CRYPTO_TARGET\" : './',                                                             # Crypto target folder\n",
    "        \"FIRMWAREPATH\" : f'{hardware_dir}hardware/victims/firmware',                         # Firmware path, path to compiler, simpleserial of chipwhisperer\n",
    "\n",
    "        \"PLATFORM\" : 'CWLITEARM',                                                           # Chipwhisperer device type/Platform\n",
    "        \"SS_VER\" :'SS_VER_2_1',                                                             # SimpleSerial version, in this case version 2\n",
    "        \"TARGET\" :'simpleserial-target',                                                    # Target name, in this case simpleserial-target\n",
    "    }\n",
    "    firmware_bash_cmd = f''\n",
    "\n",
    "\n",
    "    def _init_chipwhisperer_(self):# - Running additional ipynb file, containing basic setup of chipwhisperer, conditional of SETUP_VARS\n",
    "        SS_VER = self.chipwhisperer_init[\"SS_VER\"]\n",
    "        PLATFORM = self.chipwhisperer_init[\"PLATFORM\"]\n",
    "        try:\n",
    "            if not scope.connectStatus:\n",
    "                scope.con()\n",
    "        except NameError:\n",
    "            scope = cw.scope()\n",
    "        \n",
    "        try:\n",
    "            if SS_VER == \"SS_VER_2_1\":\n",
    "                target_type = cw.targets.SimpleSerial2\n",
    "            elif SS_VER == \"SS_VER_2_0\":\n",
    "                raise OSError(\"SS_VER_2_0 is deprecated. Use SS_VER_2_1\")\n",
    "            else:\n",
    "                target_type = cw.targets.SimpleSerial\n",
    "        except:\n",
    "            SS_VER=\"SS_VER_1_1\"\n",
    "            target_type = cw.targets.SimpleSerial\n",
    "        \n",
    "        try:\n",
    "            target = cw.target(scope, target_type)\n",
    "        except:\n",
    "            print(\"INFO: Caught exception on reconnecting to target - attempting to reconnect to scope first.\")\n",
    "            print(\"INFO: This is a work-around when USB has died without Python knowing. Ignore errors above this line.\")\n",
    "            scope = cw.scope()\n",
    "            target = cw.target(scope, target_type)\n",
    "        print(\"INFO: Found ChipWhisperer😍\")\n",
    "\n",
    "        if \"STM\" in PLATFORM or PLATFORM == \"CWLITEARM\" or PLATFORM == \"CWNANO\":\n",
    "            prog = cw.programmers.STM32FProgrammer\n",
    "        elif PLATFORM == \"CW303\" or PLATFORM == \"CWLITEXMEGA\":\n",
    "            prog = cw.programmers.XMEGAProgrammer\n",
    "        elif \"neorv32\" in PLATFORM.lower():\n",
    "            prog = cw.programmers.NEORV32Programmer\n",
    "        elif PLATFORM == \"CW308_SAM4S\" or PLATFORM == \"CWHUSKY\":\n",
    "            prog = cw.programmers.SAM4SProgrammer\n",
    "        else:\n",
    "            prog = None\n",
    "        time.sleep(0.05)\n",
    "        scope.default_setup()\n",
    "        self.scope = scope\n",
    "        self.target = target\n",
    "        print(\"✔️ INFO: Scope and Target, are set😍\")\n",
    "\n",
    "    \n",
    "    def __init__(self, firmware_reinit = False, re_init_dict = None):\n",
    "        if re_init_dict is not None:\n",
    "            for key in re_init_dict.keys():\n",
    "                self.chipwhisperer_init[key] = re_init_dict[key]\n",
    "            print(\"⚠️ Changed, firmware config!!!\")\n",
    "        if firmware_reinit:\n",
    "            print(\"⚠️ Reinit, initiated!!!\")\n",
    "            self._init_firmware_()\n",
    "        self._init_chipwhisperer_()\n",
    "        print(f\"❤️ Target hex: {self.chipwhisperer_init['MAKEDIR']}simpleserial-target-CWLITEARM.hex\")\n",
    "        cw.program_target(self.scope, cw.programmers.STM32FProgrammer, f\"{self.chipwhisperer_init['MAKEDIR']}simpleserial-target-CWLITEARM.hex\")\n",
    "        self.reset_target(self.scope)\n",
    "        print(\"✔️ Setuper initiated.\")\n",
    "    \n",
    "    \n",
    "    def _init_firmware_(self):\n",
    "        import subprocess\n",
    "        self.firmware_bash_cmd = '''cd %s | make CRYPTO_TARGET=%s PLATFORM=%s FIRMWAREPATH=%s SS_VER=%s TARGET=%s> output.txt 2>warnings_new.txt'''\n",
    "        \n",
    "        # Deactivated block of code, because it throws error, because path\n",
    "            #print(self.firmware_bash_cmd  % tuple(str(self.chipwhisperer_init[k]) for k in ('MAKEDIR', 'CRYPTO_TARGET', 'PLATFORM', 'FIRMWAREPATH', 'SS_VER',  'TARGET')))\n",
    "            #result = subprocess.run(self.firmware_bash_cmd\n",
    "            #                        % tuple(str(self.chipwhisperer_init[k]) for k in ('MAKEDIR', 'CRYPTO_TARGET', 'PLATFORM', 'FIRMWAREPATH', 'SS_VER',  'TARGET')),\n",
    "            #                        shell=True,\n",
    "            #                        executable='bin/bash')\n",
    "        \n",
    "        subprocess.call(f'firmware_setup.sh %s %s %s %s %s %s'\n",
    "                        % tuple(str(self.chipwhisperer_init[k]) for k in ('MAKEDIR', 'CRYPTO_TARGET', 'PLATFORM', 'FIRMWAREPATH', 'SS_VER',  'TARGET')),\n",
    "                        shell=True)\n",
    "        print(f\"✔️ Firmware maked, with command {self.firmware_bash_cmd}.\")\n",
    "    def _scope_disc_(self):\n",
    "        try:\n",
    "            self.scope.dis()\n",
    "            self.target.dis()\n",
    "            print(\"✔️ Firmware disconnected.\")\n",
    "        except Exception as e:\n",
    "            print(\"❌ Disconection failed because: \",e)\n",
    "\n",
    "\n",
    "    def reset_target(self, scope):\n",
    "        PLATFORM = self.chipwhisperer_init[\"PLATFORM\"]\n",
    "        if PLATFORM == \"CW303\" or PLATFORM == \"CWLITEXMEGA\":\n",
    "            self.scope.io.pdic = 'low'\n",
    "            time.sleep(0.1)\n",
    "            self.scope.io.pdic = 'high_z' #XMEGA doesn't like pdic driven high\n",
    "            time.sleep(0.1) #xmega needs more startup time\n",
    "        elif \"neorv32\" in PLATFORM.lower():\n",
    "            raise IOError(\"Default iCE40 neorv32 build does not have external reset - reprogram device to reset\")\n",
    "        elif PLATFORM == \"CW308_SAM4S\" or PLATFORM == \"CWHUSKY\":\n",
    "            self.scope.io.nrst = 'low'\n",
    "            time.sleep(0.25)\n",
    "            self.scope.io.nrst = 'high_z'\n",
    "            time.sleep(0.25)\n",
    "        else:  \n",
    "            self.scope.io.nrst = 'low'\n",
    "            time.sleep(0.05)\n",
    "            self.scope.io.nrst = 'high_z'\n",
    "            time.sleep(0.05)"
   ]
  },
  {
   "cell_type": "code",
   "execution_count": 1,
   "id": "12bb0ce9-3d58-4aa5-8626-105f4dba3187",
   "metadata": {},
   "outputs": [
    {
     "name": "stdout",
     "output_type": "stream",
     "text": [
      "✔️ The Setuper class succesfuly imported.\n"
     ]
    }
   ],
   "source": [
    "print(\"✔️ The Setuper class succesfuly imported.\")"
   ]
  },
  {
   "cell_type": "code",
   "execution_count": null,
   "id": "b67b3979-5d61-4d40-ab9c-d4502e02b7fe",
   "metadata": {
    "editable": true,
    "slideshow": {
     "slide_type": ""
    },
    "tags": []
   },
   "outputs": [],
   "source": [
    "#cw_setuper = CW_Setuper(firmware_reinit = True)\n",
    "#cw_setuper._scope_disc_()\n",
    "#cw_setuper = None"
   ]
  },
  {
   "cell_type": "markdown",
   "id": "9d96939b-9a56-4740-a00b-fc504ad1717c",
   "metadata": {
    "jp-MarkdownHeadingCollapsed": true
   },
   "source": [
    "### Archive"
   ]
  },
  {
   "cell_type": "markdown",
   "id": "bebf2a21-bf55-4b00-9c43-fef019f90be0",
   "metadata": {},
   "source": [
    "- Defining several importatn variables, alongside relative target's paths\n",
    "- Transfered to CW_Setuper._init_chipwhisperer_()\n",
    "<code>\n",
    "    SCOPETYPE = 'OPENADC'                                                            # Scope type ...\n",
    "    hadware_dir = '../../../'                                                        # path to the imported /hardware/victims/firmware folder\n",
    "    MAKEDIR = './makefile_dir_2/'                                                    # Makefile folder relative path\n",
    "    CRYPTO_TARGET = './'                                                             # Crypto target folder\n",
    "    FIRMWAREPATH = f'{hadware_dir}hardware/victims/firmware'                         # Firmware path, path to compiler, simpleserial of chipwhisperer\n",
    "    PLATFORM = 'CWLITEARM'                                                           # Chipwhisperer device type/Platform\n",
    "    SS_VER='SS_VER_2_1'                                                              # SimpleSerial version, in this case version 2\n",
    "    TARGET='simpleserial-target'                                                     # Target name, in this case simpleserial-target\n",
    "</code>"
   ]
  },
  {
   "cell_type": "markdown",
   "id": "8fff226f-5980-433b-9ab8-4199238d7385",
   "metadata": {},
   "source": [
    "- Running additional ipynb file, containing basic setup of chipwhisperer, conditional of SETUP_VARS\n",
    "- Transfered to CW_Setuper._init_chipwhisperer_()\n",
    "<code>\n",
    "    import chipwhisperer as cw  \n",
    "    try:  \n",
    "        if not scope.connectStatus:  \n",
    "            scope.dis()  \n",
    "    except:  \n",
    "        scope = cw.scope()  \n",
    "    setup_ipynb = '../Setup_Scripts/Setup_Generic.ipynb'   \n",
    "    %run '../Setup_Scripts/Setup_Generic.ipynb'\n",
    "</code>\n",
    "\n",
    "Note to self:\n",
    "When the scope is created, the device's green LED light starts blinking (on top of the blue LED that probably indicates that the device is connected physically).\n",
    "\n",
    "We also set the scope to a default setup which means:\n",
    "\n",
    "- Sets the scope gain to 45dB\n",
    "- Sets the scope to capture 5000 samples\n",
    "- Sets the scope offset to 0 (aka it will begin capturing as soon as it is triggered)\n",
    "- Sets the scope trigger to rising edge\n",
    "- Outputs a 7.37MHz clock to the target on HS2\n",
    "- Clocks the scope ADC at 4*7.37MHz. Note that this is synchronous to the target clock on HS2\n",
    "- Assigns GPIO1 as serial RX\n",
    "- Assigns GPIO2 as serial TX"
   ]
  },
  {
   "cell_type": "markdown",
   "id": "a426ba25-03b5-4d92-b34f-7dda4246e77a",
   "metadata": {},
   "source": [
    "- Running an bash program for translation of crypto target program, into format understandable by the device (.hex)\n",
    "- There are several inputed vars, which are defined in 1.0. Variable Setup\n",
    "<code>\n",
    "    %%bash -s \"$MAKEDIR\" \"$CRYPTO_TARGET\" \"$PLATFORM\" \"$FIRMWAREPATH\" \"$SS_VER\" \"$TARGET\"\n",
    "    cd $1\n",
    "    make CRYPTO_TARGET=$2 PLATFORM=$3 FIRMWAREPATH=$4 SS_VER=$5 TARGET=$6> output.txt 2>warnings.txt\n",
    "</code>"
   ]
  },
  {
   "cell_type": "markdown",
   "id": "bb5bf6d8-cfa4-46d5-a103-fb3fd122edf4",
   "metadata": {},
   "source": [
    "- This is an upload of crypto target software unto chipwhisperer, while it is in it's understandable format (.hex)\n",
    "- Reseting target for wholesome flushing\n",
    "<code>\n",
    "    cw.program_target(scope, cw.programmers.STM32FProgrammer, f\"{MAKEDIR}simpleserial-target-CWLITEARM.hex\")\n",
    "    reset_target(scope)\n",
    "</code>"
   ]
  },
  {
   "cell_type": "code",
   "execution_count": null,
   "id": "27077168-6878-4b93-a44f-0d2bd7805348",
   "metadata": {},
   "outputs": [],
   "source": []
  }
 ],
 "metadata": {
  "kernelspec": {
   "display_name": "Python 3 (ipykernel)",
   "language": "python",
   "name": "python3"
  },
  "language_info": {
   "codemirror_mode": {
    "name": "ipython",
    "version": 3
   },
   "file_extension": ".py",
   "mimetype": "text/x-python",
   "name": "python",
   "nbconvert_exporter": "python",
   "pygments_lexer": "ipython3",
   "version": "3.9.7"
  }
 },
 "nbformat": 4,
 "nbformat_minor": 5
}
