{
 "cells": [
  {
   "cell_type": "markdown",
   "id": "1fca7269-3343-4432-b7bd-136f967318e0",
   "metadata": {},
   "source": [
    "# DP1\n",
    "Familiriazing with Chip-Whisperer and trying out basic SCA"
   ]
  },
  {
   "cell_type": "markdown",
   "id": "eb3756d5-2d15-4dbc-b2b0-261d75b786fe",
   "metadata": {},
   "source": [
    "## 1. Connecting to Chip-Whisperer and seting up basic set"
   ]
  },
  {
   "cell_type": "markdown",
   "id": "8601689f-6ba3-4754-a37f-896ca810b079",
   "metadata": {
    "tags": []
   },
   "source": [
    "### 1.1 Instaling and Importing needed libraries"
   ]
  },
  {
   "cell_type": "code",
   "execution_count": 1,
   "id": "b653ac19-395a-4789-95fd-3c122f9040ac",
   "metadata": {
    "tags": []
   },
   "outputs": [
    {
     "name": "stdout",
     "output_type": "stream",
     "text": [
      "Note: you may need to restart the kernel to use updated packages.\n"
     ]
    },
    {
     "name": "stderr",
     "output_type": "stream",
     "text": [
      "\n",
      "[notice] A new release of pip is available: 23.2.1 -> 24.0\n",
      "[notice] To update, run: python.exe -m pip install --upgrade pip\n"
     ]
    }
   ],
   "source": [
    "%pip install chipwhisperer -Uq"
   ]
  },
  {
   "cell_type": "code",
   "execution_count": 2,
   "id": "671eb8d1-7789-4fc5-9947-4f77b3470efe",
   "metadata": {
    "tags": []
   },
   "outputs": [],
   "source": [
    "import chipwhisperer as cw\n",
    "import matplotlib.pylab as plt"
   ]
  },
  {
   "cell_type": "markdown",
   "id": "a4836df6-cc62-4a5c-a91e-48f4eba26d6f",
   "metadata": {
    "tags": []
   },
   "source": [
    "### 1.2 Testing connection of Chip-Whisperer"
   ]
  },
  {
   "cell_type": "markdown",
   "id": "a81de93b-bb78-40e7-b46c-774c07a13e42",
   "metadata": {},
   "source": [
    "### 1.3 Connecting  to Chip-Whisperer and seting up scope\n",
    "1. Setting basic connection to one device, foremore in cw.scope(SerialNum) SErialNum is not needed to be set.\n",
    "2. We have picked basic setup such as:\n",
    "    - Sets the scope gain to 45dB\n",
    "    - Sets the scope to capture 5000 samples\n",
    "    - Sets the scope offset to 0 (aka it will begin capturing as soon as it is triggered)\n",
    "    - Sets the scope trigger to rising edge\n",
    "    - Outputs a 7.37MHz clock to the target on HS2\n",
    "    - Clocks the scope ADC at 4*7.37MHz. Note that this is synchronous to the target clock on HS2\n",
    "    - Assigns GPIO1 as serial RX\n",
    "    - Assigns GPIO2 as serial TX\n",
    "3. We have picked cw.targets.SimpleSerial2 in order to enable send_comd()"
   ]
  },
  {
   "cell_type": "code",
   "execution_count": 3,
   "id": "1d64e928-6674-4182-b578-b06eea4cc772",
   "metadata": {},
   "outputs": [],
   "source": [
    "SCOPETYPE = 'OPENADC'\n",
    "PLATFORM = 'CWLITEARM'\n",
    "CRYPTO_TARGET = 'TINYAES128C'\n",
    "VERSION = 'HARDWARE'\n",
    "\n",
    "SS_VER = 'SS_VER_2_1'\n",
    "allowable_exceptions = None"
   ]
  },
  {
   "cell_type": "code",
   "execution_count": 4,
   "id": "d6b422e2-d9c6-447f-a202-aef6528e9e70",
   "metadata": {
    "tags": []
   },
   "outputs": [
    {
     "name": "stdout",
     "output_type": "stream",
     "text": [
      "INFO: Found ChipWhisperer😍\n"
     ]
    }
   ],
   "source": [
    "#As during this implementation, and moreso all following implementations, the connection will be only to one chipwhisperer device, then there is no need for name in cw.score(NAME)\n",
    "scope = cw.scope()\n",
    "scope.dis()\n",
    "\n",
    "try:\n",
    "    if not scope.connectStatus:\n",
    "        scope.con()\n",
    "except NameError():\n",
    "    scope = cw.scope()\n",
    "print(\"INFO: Found ChipWhisperer😍\")\n",
    "\n",
    "\n",
    "#Setting up default setup, as there is no need, currently for more advanced options \n",
    "scope.default_setup()\n",
    "\n",
    "\n",
    "#using cw.targets.SimpleSerial2 in order to enable option of sending commands\n",
    "target = cw.target(scope, cw.targets.SimpleSerial2)"
   ]
  },
  {
   "cell_type": "code",
   "execution_count": 5,
   "id": "da096aad-43eb-4164-9f96-f40a94fed5b5",
   "metadata": {},
   "outputs": [
    {
     "name": "stdout",
     "output_type": "stream",
     "text": [
      "SS_VER set to SS_VER_1_1\n",
      "SS_VER set to SS_VER_1_1\n",
      "SS_VER set to SS_VER_1_1\n",
      "SS_VER set to SS_VER_1_1\n",
      "make[1]: '.dep' is up to date.\n",
      "SS_VER set to SS_VER_1_1\n",
      "SS_VER set to SS_VER_1_1\n",
      ".\n",
      "Welcome to another exciting ChipWhisperer target build!!\n"
     ]
    },
    {
     "name": "stderr",
     "output_type": "stream",
     "text": [
      "process_begin: CreateProcess(NULL, arm-none-eabi-gcc --version, ...) failed.\n",
      "make (e=2): Syst�m nem��e nal�zt uveden� soubor.\n",
      "make[1]: *** [.././Makefile.inc:410: gccversion] Error 2\n",
      "make: *** [.././Makefile.inc:350: all] Error 2\n"
     ]
    },
    {
     "ename": "CalledProcessError",
     "evalue": "Command 'b'cd version_01/ext/hardware/victims/firmware/simpleserial-base/\\nmake PLATFORM=CWLITEARM CRYPTO_TARGET=NONE\\n'' returned non-zero exit status 2.",
     "output_type": "error",
     "traceback": [
      "\u001b[1;31m---------------------------------------------------------------------------\u001b[0m",
      "\u001b[1;31mCalledProcessError\u001b[0m                        Traceback (most recent call last)",
      "Cell \u001b[1;32mIn[5], line 1\u001b[0m\n\u001b[1;32m----> 1\u001b[0m \u001b[43mget_ipython\u001b[49m\u001b[43m(\u001b[49m\u001b[43m)\u001b[49m\u001b[38;5;241;43m.\u001b[39;49m\u001b[43mrun_cell_magic\u001b[49m\u001b[43m(\u001b[49m\u001b[38;5;124;43m'\u001b[39;49m\u001b[38;5;124;43mbash\u001b[39;49m\u001b[38;5;124;43m'\u001b[39;49m\u001b[43m,\u001b[49m\u001b[43m \u001b[49m\u001b[38;5;124;43m'\u001b[39;49m\u001b[38;5;124;43m'\u001b[39;49m\u001b[43m,\u001b[49m\u001b[43m \u001b[49m\u001b[38;5;124;43m'\u001b[39;49m\u001b[38;5;124;43mcd version_01/ext/hardware/victims/firmware/simpleserial-base/\u001b[39;49m\u001b[38;5;130;43;01m\\n\u001b[39;49;00m\u001b[38;5;124;43mmake PLATFORM=CWLITEARM CRYPTO_TARGET=NONE\u001b[39;49m\u001b[38;5;130;43;01m\\n\u001b[39;49;00m\u001b[38;5;124;43m'\u001b[39;49m\u001b[43m)\u001b[49m\n",
      "File \u001b[1;32m~\\PycharmProjects\\DP1\\.venv\\lib\\site-packages\\IPython\\core\\interactiveshell.py:2517\u001b[0m, in \u001b[0;36mInteractiveShell.run_cell_magic\u001b[1;34m(self, magic_name, line, cell)\u001b[0m\n\u001b[0;32m   2515\u001b[0m \u001b[38;5;28;01mwith\u001b[39;00m \u001b[38;5;28mself\u001b[39m\u001b[38;5;241m.\u001b[39mbuiltin_trap:\n\u001b[0;32m   2516\u001b[0m     args \u001b[38;5;241m=\u001b[39m (magic_arg_s, cell)\n\u001b[1;32m-> 2517\u001b[0m     result \u001b[38;5;241m=\u001b[39m fn(\u001b[38;5;241m*\u001b[39margs, \u001b[38;5;241m*\u001b[39m\u001b[38;5;241m*\u001b[39mkwargs)\n\u001b[0;32m   2519\u001b[0m \u001b[38;5;66;03m# The code below prevents the output from being displayed\u001b[39;00m\n\u001b[0;32m   2520\u001b[0m \u001b[38;5;66;03m# when using magics with decorator @output_can_be_silenced\u001b[39;00m\n\u001b[0;32m   2521\u001b[0m \u001b[38;5;66;03m# when the last Python token in the expression is a ';'.\u001b[39;00m\n\u001b[0;32m   2522\u001b[0m \u001b[38;5;28;01mif\u001b[39;00m \u001b[38;5;28mgetattr\u001b[39m(fn, magic\u001b[38;5;241m.\u001b[39mMAGIC_OUTPUT_CAN_BE_SILENCED, \u001b[38;5;28;01mFalse\u001b[39;00m):\n",
      "File \u001b[1;32m~\\PycharmProjects\\DP1\\.venv\\lib\\site-packages\\IPython\\core\\magics\\script.py:154\u001b[0m, in \u001b[0;36mScriptMagics._make_script_magic.<locals>.named_script_magic\u001b[1;34m(line, cell)\u001b[0m\n\u001b[0;32m    152\u001b[0m \u001b[38;5;28;01melse\u001b[39;00m:\n\u001b[0;32m    153\u001b[0m     line \u001b[38;5;241m=\u001b[39m script\n\u001b[1;32m--> 154\u001b[0m \u001b[38;5;28;01mreturn\u001b[39;00m \u001b[38;5;28;43mself\u001b[39;49m\u001b[38;5;241;43m.\u001b[39;49m\u001b[43mshebang\u001b[49m\u001b[43m(\u001b[49m\u001b[43mline\u001b[49m\u001b[43m,\u001b[49m\u001b[43m \u001b[49m\u001b[43mcell\u001b[49m\u001b[43m)\u001b[49m\n",
      "File \u001b[1;32m~\\PycharmProjects\\DP1\\.venv\\lib\\site-packages\\IPython\\core\\magics\\script.py:314\u001b[0m, in \u001b[0;36mScriptMagics.shebang\u001b[1;34m(self, line, cell)\u001b[0m\n\u001b[0;32m    309\u001b[0m \u001b[38;5;28;01mif\u001b[39;00m args\u001b[38;5;241m.\u001b[39mraise_error \u001b[38;5;129;01mand\u001b[39;00m p\u001b[38;5;241m.\u001b[39mreturncode \u001b[38;5;241m!=\u001b[39m \u001b[38;5;241m0\u001b[39m:\n\u001b[0;32m    310\u001b[0m     \u001b[38;5;66;03m# If we get here and p.returncode is still None, we must have\u001b[39;00m\n\u001b[0;32m    311\u001b[0m     \u001b[38;5;66;03m# killed it but not yet seen its return code. We don't wait for it,\u001b[39;00m\n\u001b[0;32m    312\u001b[0m     \u001b[38;5;66;03m# in case it's stuck in uninterruptible sleep. -9 = SIGKILL\u001b[39;00m\n\u001b[0;32m    313\u001b[0m     rc \u001b[38;5;241m=\u001b[39m p\u001b[38;5;241m.\u001b[39mreturncode \u001b[38;5;129;01mor\u001b[39;00m \u001b[38;5;241m-\u001b[39m\u001b[38;5;241m9\u001b[39m\n\u001b[1;32m--> 314\u001b[0m     \u001b[38;5;28;01mraise\u001b[39;00m CalledProcessError(rc, cell)\n",
      "\u001b[1;31mCalledProcessError\u001b[0m: Command 'b'cd version_01/ext/hardware/victims/firmware/simpleserial-base/\\nmake PLATFORM=CWLITEARM CRYPTO_TARGET=NONE\\n'' returned non-zero exit status 2."
     ]
    }
   ],
   "source": [
    "%%bash\n",
    "cd version_01/ext/hardware/victims/firmware/simpleserial-base/\n",
    "make PLATFORM=CWLITEARM CRYPTO_TARGET=NONE"
   ]
  },
  {
   "cell_type": "markdown",
   "id": "c0b02acf-f8d2-404b-b9b2-1dd6a4d32888",
   "metadata": {
    "tags": []
   },
   "source": [
    "Because we have choosen CWLITEARM, we will use inbuild system STM32FProgrammer"
   ]
  },
  {
   "cell_type": "code",
   "execution_count": null,
   "id": "d8785901-00dd-4817-97ab-09dcdcf94271",
   "metadata": {},
   "outputs": [],
   "source": [
    "#prog = cw.programmers.STM32FProgrammer"
   ]
  },
  {
   "cell_type": "markdown",
   "id": "c9deed46-85d6-43f5-b3be-de83d1fbf336",
   "metadata": {},
   "source": [
    "### 1.4 Making build and preparing for deploying NN on Chip-Whisperer\n",
    "%%bash  \n",
    "cd ../[PLACE WHERE I HAVE PREPARED THE NN FOR DEPLOYMENT ON CHIP WHISPERER]  \n",
    "make PLATFORM=CWLITEARM CRYPTO_TARGET=NONE"
   ]
  },
  {
   "cell_type": "markdown",
   "id": "b08ae9e5-b4fa-4444-b8e2-2e7d4ec359b7",
   "metadata": {},
   "source": [
    "%%bash\n",
    "cd ../[PLACE WHERE I HAVE PREPARED THE NN FOR DEPLOYMENT ON CHIP WHISPERER]\n",
    "make PLATFORM=CWLITEARM CRYPTO_TARGET=NONE"
   ]
  },
  {
   "cell_type": "code",
   "execution_count": null,
   "id": "44e0e5e7-e54b-453c-9312-4373a72a0f6e",
   "metadata": {},
   "outputs": [],
   "source": [
    "#cw.program_target(scope, cw.programmers.STM32FProgrammer, \"\")"
   ]
  },
  {
   "cell_type": "markdown",
   "id": "f9bf7aee-a7c0-4ab3-ac5b-a22ec7fe8b98",
   "metadata": {},
   "source": [
    "## Cleaning up, and disconecting from chipwhisperer"
   ]
  },
  {
   "cell_type": "code",
   "execution_count": null,
   "id": "092a0b50-591f-4d4e-bb4b-dd19a67fae5c",
   "metadata": {},
   "outputs": [],
   "source": [
    "scope.dis()\n",
    "target.dis()"
   ]
  },
  {
   "cell_type": "code",
   "execution_count": null,
   "id": "c584df6d-1575-4c91-b736-28e1423f9135",
   "metadata": {},
   "outputs": [],
   "source": []
  }
 ],
 "metadata": {
  "kernelspec": {
   "display_name": "Python 3 (ipykernel)",
   "language": "python",
   "name": "python3"
  },
  "language_info": {
   "codemirror_mode": {
    "name": "ipython",
    "version": 3
   },
   "file_extension": ".py",
   "mimetype": "text/x-python",
   "name": "python",
   "nbconvert_exporter": "python",
   "pygments_lexer": "ipython3",
   "version": "3.9.7"
  }
 },
 "nbformat": 4,
 "nbformat_minor": 5
}
