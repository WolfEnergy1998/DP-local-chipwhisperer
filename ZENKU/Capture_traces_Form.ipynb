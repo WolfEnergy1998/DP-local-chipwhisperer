{
 "cells": [
  {
   "cell_type": "markdown",
   "id": "1e9b2a44-4396-4cb6-a668-8ccc2f99414d",
   "metadata": {},
   "source": [
    "# Capture Traces for 21.12"
   ]
  },
  {
   "cell_type": "code",
   "execution_count": null,
   "id": "8e5d2c8b-d340-442d-81fc-167f898710d8",
   "metadata": {},
   "outputs": [],
   "source": [
    "%run \"./Capture_traces_General.ipynb\""
   ]
  },
  {
   "cell_type": "markdown",
   "id": "5c4dc6b3-d0f5-4931-a678-2b05d621578e",
   "metadata": {},
   "source": [
    "## Target [XXXX] Measurement: "
   ]
  },
  {
   "cell_type": "markdown",
   "id": "a4a2d83f-35a0-4b79-ad15-1a172246a07c",
   "metadata": {},
   "source": [
    "  1. Measure target device in action\n",
    "  2. Show dynamic SPA\n",
    "  3. Calculate correlation matrixes (for 4 methods, that is HW8, HW32,  Abs8, Abs32) "
   ]
  },
  {
   "cell_type": "code",
   "execution_count": null,
   "id": "b9235082-7ffe-40d8-96ab-368f4ed7e069",
   "metadata": {},
   "outputs": [],
   "source": [
    "#firmwareName = 'basic_quantized3_MLP-Rand'\n",
    "firmwareName = '2-akt'\n",
    "epochs_list = [1000]\n",
    "decimate = 1\n",
    "reverse = False"
   ]
  },
  {
   "cell_type": "code",
   "execution_count": null,
   "id": "ada490ca-4244-43cc-bf5a-e7492c6ff5dc",
   "metadata": {},
   "outputs": [],
   "source": [
    "scope, target, cw_setuper = setup(f\"makefile_dir_{firmwareName}\")\n",
    "time.sleep(10)"
   ]
  },
  {
   "cell_type": "code",
   "execution_count": null,
   "id": "4d6c4769-aa99-44d2-9343-12ecf970b5d2",
   "metadata": {},
   "outputs": [],
   "source": [
    "corr_HW8, corr_HW32, corr_Abs8, corr_Abs32, rand_inputs, waves, out, diff_avg, avg_wave, var = capture_correlate(scope=scope,\n",
    "                                                                                                                      epochs_list = epochs_list,\n",
    "                                                                                                                      decimate = decimate,\n",
    "                                                                                                                      reverse = reverse,\n",
    "                                                                                                                      runName=firmwareName)"
   ]
  },
  {
   "cell_type": "markdown",
   "id": "6c0180eb-3671-4d39-b529-cff268dfbae3",
   "metadata": {},
   "source": [
    "### SPA"
   ]
  },
  {
   "cell_type": "code",
   "execution_count": null,
   "id": "f564eb3b-4075-4c46-a0e7-d170cc5cd8f6",
   "metadata": {},
   "outputs": [],
   "source": [
    "next_borders = [0, 7000]\n",
    "avg_wave = np.array(avg_wave)\n",
    "image = plot_mult(avg_wave, _type = f\"avg_wave_{firmwareName}\", mult=False, ylim=[-0.3,0.3], graph_title=\"Avg_wave\", ylabel=\"Power\", borders = next_borders)"
   ]
  },
  {
   "cell_type": "code",
   "execution_count": null,
   "id": "8fd45790-24b1-4ac1-917a-3426f36357b2",
   "metadata": {},
   "outputs": [],
   "source": [
    "prev_borders = next_borders\n",
    "next_borders = [0, 3200]\n",
    "avg_wave = np.array(avg_wave)\n",
    "image = plot_mult(avg_wave, _type = \"ANN_Active\", mult=False, xlim=[prev_borders[0],prev_borders[1]], graph_title=\"Avg_wave\",\n",
    "                  ylabel=\"Power\", borders = next_borders)"
   ]
  },
  {
   "cell_type": "markdown",
   "id": "271f0462-74ca-4b0d-bc9f-cdce0528fd47",
   "metadata": {},
   "source": [
    "#### SPA of neuron's 1. layer"
   ]
  },
  {
   "cell_type": "code",
   "execution_count": null,
   "id": "33dc6bb4-b4ea-4320-8975-bc96d69601ca",
   "metadata": {},
   "outputs": [],
   "source": [
    "prev_borders = next_borders\n",
    "next_borders = [120, 700]\n",
    "avg_wave = np.array(avg_wave)\n",
    "plot_mult(avg_wave, _type = \"Layer1\", mult=False, xlim=[prev_borders[0],prev_borders[1]], ylim=[-0.3,0.3], graph_title=\"SPA of Trace\",\n",
    "          ylabel=\"Power\", borders = next_borders)\n",
    "offset = next_borders[1] - next_borders[0]"
   ]
  },
  {
   "cell_type": "markdown",
   "id": "882426d4-3ef0-42b1-8094-c6afdabb2dbc",
   "metadata": {},
   "source": [
    "##### SPA of neuron's 1. layer, 1. neuron"
   ]
  },
  {
   "cell_type": "code",
   "execution_count": null,
   "id": "779168d8-f1fb-4fdc-8bf0-fbd5730269a4",
   "metadata": {},
   "outputs": [],
   "source": [
    "prev_borders = next_borders\n",
    "next_borders = [230, 300]\n",
    "avg_wave = np.array(avg_wave)\n",
    "plot_mult(avg_wave, _type = \"Layer1_Neuron_1th\", mult=False, xlim=[prev_borders[0],prev_borders[1]], ylim=[-0.3,0.3], graph_title=\"SPA of Trace\",\n",
    "          ylabel=\"Power\", borders = next_borders)"
   ]
  },
  {
   "cell_type": "markdown",
   "id": "6b76c9b0-a8d3-4da7-879e-e78d2d1e5f6d",
   "metadata": {},
   "source": [
    "###### SPA of neuron's 1. layer, 1. neuron, 1. multiplication"
   ]
  },
  {
   "cell_type": "code",
   "execution_count": null,
   "id": "cd4e2c3c-8077-4b9f-9c37-14fbe408b507",
   "metadata": {},
   "outputs": [],
   "source": [
    "prev_borders = next_borders\n",
    "secrets = np.array(out)[3:-4]\n",
    "print(secrets)\n",
    "corr_map = abs(np.array(corr_HW8))\n",
    "akt_borders = np.array(prev_borders) + 0\n",
    "for i in secrets[0:5]:\n",
    "    compTrueToAll_corrMatrix(corr_map, true_secret = i, xlim=[akt_borders[0],akt_borders[1]], true_last = False, saveName = f'CPA_mult_level_secret[{i}]')\n",
    "    akt_borders = akt_borders + offset"
   ]
  },
  {
   "cell_type": "markdown",
   "id": "5bd3e673-ed22-487b-b0cc-8b3316df0b2d",
   "metadata": {},
   "source": [
    "### CPA"
   ]
  },
  {
   "cell_type": "markdown",
   "id": "c49db53b-b18b-4d1a-be81-f2198402491b",
   "metadata": {},
   "source": [
    "##### CPA, weight extraction - Abs8"
   ]
  },
  {
   "cell_type": "code",
   "execution_count": null,
   "id": "4d93afc4-6b3f-402a-8ad4-00b830d75687",
   "metadata": {},
   "outputs": [],
   "source": [
    "corr_map = abs(np.array(corr_Abs8[:,:]))\n",
    "analyse_corr(corr_map=corr_map, weights=np.array(out)[3:-4], stop_num = 12, maxims_map = None,\n",
    "                 _index = 0, peak_range = 0.3, show_info=True, mountain_half_dist = 5, level = 3, saveName=f'Abs8_{firmwareName}')"
   ]
  },
  {
   "cell_type": "markdown",
   "id": "aaddc9de-aa49-457d-bf9e-c66874ded143",
   "metadata": {},
   "source": [
    "##### CPA, weight extraction - Abs32"
   ]
  },
  {
   "cell_type": "code",
   "execution_count": null,
   "id": "b162dd85-0942-4a10-b28d-7e658092fe54",
   "metadata": {},
   "outputs": [],
   "source": [
    "corr_map = abs(np.array(corr_Abs32[:,:]))\n",
    "analyse_corr(corr_map=corr_map, weights=np.array(out)[3:-4], stop_num = 12, maxims_map = None,\n",
    "                 _index = 0, peak_range = 0.3, show_info=True, mountain_half_dist = 5, level = 3, saveName=f'Abs32_{firmwareName}')"
   ]
  },
  {
   "cell_type": "markdown",
   "id": "92be22d9-3903-4d14-93cd-678adcb371b7",
   "metadata": {},
   "source": [
    "##### CPA, weight extraction - HW32"
   ]
  },
  {
   "cell_type": "code",
   "execution_count": null,
   "id": "15fdd29c-41f5-4c8d-a55f-0ce59e63f413",
   "metadata": {},
   "outputs": [],
   "source": [
    "corr_map = abs(np.array(corr_HW32[:,:]))\n",
    "analyse_corr(corr_map=corr_map, weights=np.array(out)[3:-4], stop_num = 12, maxims_map = None,\n",
    "                 _index = 0, peak_range = 0.3, show_info=True, mountain_half_dist = 5, level = 3, saveName=f'HW32_{firmwareName}')"
   ]
  },
  {
   "cell_type": "markdown",
   "id": "d96f8774-1ba8-4327-97a1-16e8e93d2734",
   "metadata": {},
   "source": [
    "##### CPA, weight extraction - HW8"
   ]
  },
  {
   "cell_type": "code",
   "execution_count": null,
   "id": "685a1ff3-d430-4037-b1ca-a7901d1d923d",
   "metadata": {
    "scrolled": true
   },
   "outputs": [],
   "source": [
    "corr_map = abs(np.array(corr_HW8[:,:]))\n",
    "analyse_corr(corr_map=corr_map, weights=np.array(out)[3:-4], stop_num = 12, maxims_map = None,\n",
    "                 _index = 0, peak_range = 0.3, show_info=True, mountain_half_dist = 5, level = 3, saveName=f'HW8_{firmwareName}')"
   ]
  },
  {
   "cell_type": "markdown",
   "id": "1f911d14-7eaf-42fc-ab2a-02d9e59997bf",
   "metadata": {},
   "source": [
    "### Current Overview and findings: "
   ]
  },
  {
   "cell_type": "code",
   "execution_count": null,
   "id": "fc90b328-f153-4587-ac63-b21c6586d998",
   "metadata": {},
   "outputs": [],
   "source": []
  },
  {
   "cell_type": "code",
   "execution_count": null,
   "id": "921dafa2-de07-41bc-babb-58a9a66e5b5a",
   "metadata": {},
   "outputs": [],
   "source": []
  }
 ],
 "metadata": {
  "kernelspec": {
   "display_name": "Python 3 (ipykernel)",
   "language": "python",
   "name": "python3"
  },
  "language_info": {
   "codemirror_mode": {
    "name": "ipython",
    "version": 3
   },
   "file_extension": ".py",
   "mimetype": "text/x-python",
   "name": "python",
   "nbconvert_exporter": "python",
   "pygments_lexer": "ipython3",
   "version": "3.9.7"
  }
 },
 "nbformat": 4,
 "nbformat_minor": 5
}
