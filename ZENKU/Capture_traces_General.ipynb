{
 "cells": [
  {
   "cell_type": "markdown",
   "id": "1e9b2a44-4396-4cb6-a668-8ccc2f99414d",
   "metadata": {},
   "source": [
    "# Capture Traces for 21.12"
   ]
  },
  {
   "cell_type": "code",
   "execution_count": 1,
   "id": "cd8a939e-8d12-4210-959a-2ad90da7c12c",
   "metadata": {},
   "outputs": [],
   "source": [
    "import os"
   ]
  },
  {
   "cell_type": "code",
   "execution_count": 2,
   "id": "3a621289-92b1-456b-ab23-568f70bc55ef",
   "metadata": {},
   "outputs": [],
   "source": [
    "## repository of saves\n",
    "save_rep = \"E:/DP_database/database\"\n",
    "os.makedirs(f'{save_rep}/figures/get_weights/', exist_ok=True)\n",
    "os.makedirs(f'{save_rep}/figures/SPA/', exist_ok=True)\n",
    "os.makedirs(f'{save_rep}/figures/get_weights/methods/', exist_ok=True)"
   ]
  },
  {
   "cell_type": "markdown",
   "id": "ad3889f0-0259-40f3-af3f-1a918771ca73",
   "metadata": {},
   "source": [
    "## Libraries and Other Notebooks"
   ]
  },
  {
   "cell_type": "code",
   "execution_count": 3,
   "id": "a843f872-76e9-4005-864f-d8e5044ca4fc",
   "metadata": {},
   "outputs": [],
   "source": [
    "import matplotlib.pyplot as plt"
   ]
  },
  {
   "cell_type": "code",
   "execution_count": 4,
   "id": "8e5d2c8b-d340-442d-81fc-167f898710d8",
   "metadata": {},
   "outputs": [
    {
     "name": "stderr",
     "output_type": "stream",
     "text": [
      "C:\\Users\\Samuel\\AppData\\Local\\Temp\\ipykernel_3972\\4114886631.py:4: DeprecationWarning: pkg_resources is deprecated as an API. See https://setuptools.pypa.io/en/latest/pkg_resources.html\n",
      "  import pkg_resources\n"
     ]
    },
    {
     "name": "stdout",
     "output_type": "stream",
     "text": [
      "✔️ The File uploader succesfuly imported.\n"
     ]
    }
   ],
   "source": [
    "%run \"./File_Uploader.ipynb\""
   ]
  },
  {
   "cell_type": "code",
   "execution_count": 5,
   "id": "5a4a44fa-03bb-45b5-a3ba-47d55c39c65a",
   "metadata": {},
   "outputs": [
    {
     "name": "stdout",
     "output_type": "stream",
     "text": [
      "✔️ The Setuper class succesfuly imported.\n",
      "✔️ The ANN_Observer class succesfuly imported.\n"
     ]
    }
   ],
   "source": [
    "%run \"./ANN_Observer.ipynb\""
   ]
  },
  {
   "cell_type": "code",
   "execution_count": 6,
   "id": "c1acb318-d546-4602-ace5-4ff4888b8a45",
   "metadata": {},
   "outputs": [
    {
     "name": "stdout",
     "output_type": "stream",
     "text": [
      "✔️ The Analyser succesfuly runned.\n"
     ]
    }
   ],
   "source": [
    "%run \"./Analyser.ipynb\"    "
   ]
  },
  {
   "cell_type": "markdown",
   "id": "96d2ed98-dcf3-4197-9a39-af30bf7ebec7",
   "metadata": {},
   "source": [
    "## Function Definitions"
   ]
  },
  {
   "cell_type": "markdown",
   "id": "b2eb554b-f504-4664-bf2e-44a475fa77dd",
   "metadata": {},
   "source": [
    "### Scope Setup"
   ]
  },
  {
   "cell_type": "code",
   "execution_count": 7,
   "id": "8d1c05fe-d5e7-4ac0-abae-ab726b57169f",
   "metadata": {},
   "outputs": [],
   "source": [
    "scope : cw.scope = None\n",
    "target: cw.target = None\n",
    "cw_setuper: CW_Setuper\n",
    "def setup(makedir):\n",
    "    global scope\n",
    "    global target\n",
    "    global cw_setuper\n",
    "    make_dir = makedir\n",
    "    re_init_config = {\"MAKEDIR\" : f'./{make_dir}/'}\n",
    "    cw_setuper = CW_Setuper(firmware_reinit = True, re_init_dict  = re_init_config)\n",
    "    scope = cw_setuper.scope\n",
    "    target = cw_setuper.target\n",
    "    return scope, target, cw_setuper"
   ]
  },
  {
   "cell_type": "markdown",
   "id": "210c5a65-4190-4385-9df2-1ec2a68c1c26",
   "metadata": {},
   "source": [
    "### Measurement"
   ]
  },
  {
   "cell_type": "code",
   "execution_count": 8,
   "id": "7fff4340-5305-42f4-96f6-cabe336bf517",
   "metadata": {},
   "outputs": [],
   "source": [
    "def capture_target(scope, epochs = 3000, decimate = 1, reverse = False, runName=\"_722_BasicMLP\",trace_len_mult:int=1):\n",
    "    cmd = 'p'\n",
    "    if reverse:\n",
    "        cmd = 'o'\n",
    "    name = f\"{runName}_Dec{decimate}-ntg{decimate}-{epochs}\" #ntg no-target-reset\n",
    "     \n",
    "    scope_setup(samples=24429*trace_len_mult, decimate=decimate)    \n",
    "    traces, rand_inputs = measure_traces(cmd=cmd, epochs=epochs)\n",
    "    waves = []\n",
    "    out_data = []\n",
    "    for i in traces:\n",
    "        waves.append(i[0])\n",
    "        out_data.append(i[2])\n",
    "    global save_rep\n",
    "    files = save_data(waves, rand_inputs, out_data[0], path=save_rep, name_extended = name)\n",
    "    #upload_file_to_gdrive(files,  dir_path = \"E:/DP_database/database/\")\n",
    "    #Analysis\n",
    "    print(out_data[0])\n",
    "    ith_weight = 0\n",
    "    start = ith_weight*epochs\n",
    "\n",
    "    diff_avg, avg_wave, var, ____ = createDiffWave(waves, runName)\n",
    "    return rand_inputs, waves, out_data[0], diff_avg, avg_wave, var"
   ]
  },
  {
   "cell_type": "markdown",
   "id": "13b3cb1d-ddba-4f89-843a-8ff920a855e3",
   "metadata": {},
   "source": [
    "### Correlation calculation"
   ]
  },
  {
   "cell_type": "code",
   "execution_count": 13,
   "id": "d6f947c1-3f42-4b18-9df6-4092d07eca5f",
   "metadata": {},
   "outputs": [],
   "source": [
    "def calc_corr(waves, rand_inputs, _func, _name, epochs, trace_len):\n",
    "    ncorr_all, p_values_matrix = _func(rand_inputs, np.array(waves)[:,:], n_traces = epochs, trace_len = trace_len, ith_weight = 0, calc_p_value=False)\n",
    "    global save_rep\n",
    "    np.save(f\"{save_rep}/corrs_{_name}.npy\", np.array(ncorr_all))\n",
    "    plot_mult(np.array(ncorr_all)[:,:], _type = f\"Corrs_{_name}\", ylim=[-1,1], graph_title=f\"Corrs_{_name}\", ylabel=\"Power\")\n",
    "    return ncorr_all, p_values_matrix"
   ]
  },
  {
   "cell_type": "code",
   "execution_count": 14,
   "id": "e1461f7f-ddd1-45a3-b545-cd7c30085b31",
   "metadata": {},
   "outputs": [],
   "source": [
    "def capture_correlate(scope, epochs_list = [3000], decimate = 1, reverse = False, runName=\"_722_BasicMLP\", trace_len_mult:int=1):\n",
    "    for i in trange(len(epochs_list), desc='Capturing and Analysing the traces:'):\n",
    "        epochs = epochs_list[i]\n",
    "        rand_inputs, waves, out_data, diff_avg, avg_wave, var = capture_target(scope=scope, epochs=epochs, decimate=decimate,\n",
    "                                                          reverse=reverse, runName=runName,trace_len_mult=trace_len_mult)\n",
    "        corr_HW8, HW8_pValues = calc_corr(waves=waves, rand_inputs= np.array(rand_inputs), _func=HW_8bit_ANN_CPA, _name=\"_HW8\", epochs=epochs, trace_len=24000)\n",
    "        corr_HW32, HW32_pValues = calc_corr(waves=waves, rand_inputs= np.array(rand_inputs), _func=HW_32bit_ANN_CPA, _name=\"_HW32\", epochs=epochs, trace_len=24000)\n",
    "        corr_Abs8, Abs8_pValues = calc_corr(waves=waves, rand_inputs= np.array(rand_inputs), _func=Abs_8bit_ANN_CPA, _name=\"_Abs8\", epochs=epochs, trace_len=24000)\n",
    "        corr_Abs32, Abs32_pValues = calc_corr(waves=waves, rand_inputs= np.array(rand_inputs), _func=Abs_32bit_ANN_CPA, _name=\"_Abs32\", epochs=epochs, trace_len=24000)\n",
    "    global cw_setuper\n",
    "    global target\n",
    "    cw_setuper._scope_disc_()\n",
    "    scope = None\n",
    "    target = None\n",
    "    return corr_HW8, corr_HW32, corr_Abs8, corr_Abs32, rand_inputs, waves, out_data, diff_avg, avg_wave, var"
   ]
  },
  {
   "cell_type": "markdown",
   "id": "0d83bf6e-605e-428b-aff1-75e77ed614a7",
   "metadata": {},
   "source": [
    "### Extraction of secret values"
   ]
  },
  {
   "cell_type": "code",
   "execution_count": 11,
   "id": "0150b02b-29dc-46c5-a4b3-5f7af419205c",
   "metadata": {},
   "outputs": [],
   "source": [
    "def analyse_corr(corr_map: np.ndarray, weights: list[int], stop_num = 5, maxims_map = None, _index = 0, peak_range = 0.3,\n",
    "                 show_info=True, mountain_half_dist = 5, level = 3, saveName = None):\n",
    "    index = _index\n",
    "    global save_rep\n",
    "    for secret in weights:\n",
    "        \n",
    "        print(f\"Hello {secret}\")\n",
    "        secret_value, time_sample, correlation, localMax_vector, colmn_maxVector, nextIndex, maxims_map = get_weight(correlation_matrix=corr_map,\n",
    "                                                                                                                     peak_range=peak_range,\n",
    "                                                                                                                     show_info=True,\n",
    "                                                                                                                     lastIndex=index,\n",
    "                                                                                                                     map_2dgrMaxs=maxims_map,\n",
    "                                                                                                                     mountain_half_dist=mountain_half_dist,\n",
    "                                                                                                                     level=level)\n",
    "    \n",
    "        index = nextIndex\n",
    "        figure, axis = plt.subplots(1, 2)\n",
    "        # Comparison to real correlation\n",
    "        axis[0].plot(colmn_maxVector, color='b', label='agregate_of_maxs_corrs', linewidth=0.5)\n",
    "        axis[0].plot(corr_map[secret], color='g', label=f'secret_val_corr = {secret}', linewidth=0.5)\n",
    "        #axis[0].legend(loc='upper right')\n",
    "        axis[0].legend(bbox_to_anchor=(0.75, 1.15), ncol=2)\n",
    "        axis[0].set_title(\"All - Real\")\n",
    "        plt.xlabel(\"Time Sample\")\n",
    "        plt.ylabel(\"Correlation\")\n",
    "        plt.axvline(x = index, color = 'orange')\n",
    "\n",
    "        # Comparison to found correlation\n",
    "        axis[1].plot(colmn_maxVector, color='b', label='agregate_of_maxs_corrs', linewidth=0.5)\n",
    "        axis[1].plot(corr_map[secret_value], color='r', label=f'found_corr = {secret_value}', linewidth=0.5)\n",
    "        #axis[1].legend(loc='upper right')\n",
    "        axis[1].legend(bbox_to_anchor=(0.75, -0.5), ncol=2)\n",
    "        axis[1].set_title(\"All - Found\")\n",
    "        plt.axvline(x = index, color = 'orange')\n",
    "    \n",
    "        stop_num -= 1\n",
    "        if stop_num == 0:\n",
    "            break\n",
    "        plt.show()\n",
    "\n",
    "        if saveName is not None:\n",
    "            figure.savefig(f'{save_rep}/figures/get_weights/{saveName}_corrComp_{secret}.png')\n",
    "            \n",
    "        last_found_indx = time_sample"
   ]
  },
  {
   "cell_type": "markdown",
   "id": "794055ae-5aa0-4a1a-b39a-c05830485fa5",
   "metadata": {},
   "source": [
    "## Finish"
   ]
  },
  {
   "cell_type": "code",
   "execution_count": 12,
   "id": "3e064ff7-c100-43e5-863d-252743eae61b",
   "metadata": {},
   "outputs": [
    {
     "name": "stdout",
     "output_type": "stream",
     "text": [
      "✔️ The General functions/agregate succesfuly imported.\n"
     ]
    }
   ],
   "source": [
    "print(\"✔️ The General functions/agregate succesfuly imported.\")"
   ]
  }
 ],
 "metadata": {
  "kernelspec": {
   "display_name": "Python 3 (ipykernel)",
   "language": "python",
   "name": "python3"
  },
  "language_info": {
   "codemirror_mode": {
    "name": "ipython",
    "version": 3
   },
   "file_extension": ".py",
   "mimetype": "text/x-python",
   "name": "python",
   "nbconvert_exporter": "python",
   "pygments_lexer": "ipython3",
   "version": "3.9.7"
  }
 },
 "nbformat": 4,
 "nbformat_minor": 5
}
