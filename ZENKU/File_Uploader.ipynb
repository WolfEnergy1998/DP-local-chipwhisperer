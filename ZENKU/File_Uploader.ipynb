{
 "cells": [
  {
   "cell_type": "code",
   "execution_count": null,
   "id": "8a3eb548-8751-4d52-aade-4162fa42465c",
   "metadata": {},
   "outputs": [],
   "source": [
    "# Neccesary linraries\n",
    "#!pip install pydrive2 -Uq\n",
    "#!pip install google-auth>=2.22.0 google-api-python-client>=2.97.0 -Uq"
   ]
  },
  {
   "cell_type": "code",
   "execution_count": 17,
   "id": "ae4c24fc-8cd2-4922-933d-9d9751201168",
   "metadata": {
    "editable": true,
    "slideshow": {
     "slide_type": ""
    },
    "tags": []
   },
   "outputs": [],
   "source": [
    "from pydrive2.auth import GoogleAuth\n",
    "from pydrive2.drive import GoogleDrive\n",
    "from oauth2client.service_account import ServiceAccountCredentials\n",
    "import pkg_resources\n",
    "from datetime import date\n",
    "import sys\n",
    "import os\n",
    "from tqdm.notebook import trange"
   ]
  },
  {
   "cell_type": "code",
   "execution_count": 28,
   "id": "d89156be-7551-411b-ac85-472b73c0716c",
   "metadata": {
    "editable": true,
    "slideshow": {
     "slide_type": ""
    },
    "tags": []
   },
   "outputs": [],
   "source": [
    "def upload_file_to_gdrive(file_names : list, dir_path = \"\",folder_name = \"dp_database\",parent_directory_id = '1d2gl-rR7e0Q8oXNvNTlqGF1YKH60IzCL'): \n",
    "    gauth = GoogleAuth()\n",
    "    # NOTE: if you are getting storage quota exceeded error, create a new service account, and give that service account permission to access the folder and replace the google_credentials.\n",
    "    gauth.credentials = ServiceAccountCredentials.from_json_keyfile_name(\n",
    "        pkg_resources.resource_filename(__name__, \"credentials.json\"), scopes=['https://www.googleapis.com/auth/drive'])\n",
    "\n",
    "    drive = GoogleDrive(gauth)\n",
    "    today = date.today().strftime(\"%m/%d/%y\")\n",
    "\n",
    "    for i in trange(len(file_names), desc='Uploading files:'):\n",
    "        file_path = file_names[i]\n",
    "        file_name = file_path.replace(dir_path, \"\").strip()\n",
    "        file1 = drive.CreateFile(\n",
    "            {'parents': [{\"id\": parent_directory_id}], 'title': file_name})\n",
    "        \n",
    "        file1.SetContentFile(file_path)\n",
    "        file1.Upload()\n",
    "        print(f\"🌍 \\n--------- File {file_name} is Uploaded ----------\")"
   ]
  },
  {
   "cell_type": "code",
   "execution_count": null,
   "id": "4654d6af-f4fc-4095-9b49-23b11f5a1392",
   "metadata": {
    "editable": true,
    "slideshow": {
     "slide_type": ""
    },
    "tags": []
   },
   "outputs": [],
   "source": [
    "#file_name = \"corr_all.csv\"\n",
    "#upload_file_to_gdrive(file_name)"
   ]
  },
  {
   "cell_type": "code",
   "execution_count": null,
   "id": "840ffbad-1285-41a0-b701-a5314140e0c4",
   "metadata": {},
   "outputs": [],
   "source": [
    "import pandas as pd\n",
    "def load_data(_type = \"basic\", epochs = 300, name = \"lab\", database_path='E:/DP_database/database'):\n",
    "  #From params. create unique targeting prefix\n",
    "  postfix = f\"{name}_{_type}-{epochs}\"\n",
    "  #Load the waves for choosen n-th weight,#waves = pd.read_csv(f\"/content/drive/MyDrive/dp_database/waves_{pripona}\"),#waves = waves.iloc[: , 1:],waves = waves.fillna(0),waves = waves.to_numpy()\n",
    "  waves = np.load(f\"{database_path}/waves_{postfix}.npy\")\n",
    "  #Load the rand input array\n",
    "  rand_input = pd.read_csv(f\"{database_path}//rand_inputs_{postfix}.csv\")\n",
    "  rand_input = rand_input.iloc[:,1].fillna(0)\n",
    "  rand_input = rand_input.to_numpy()\n",
    "\n",
    "  secret_weight = np.load(f\"{database_path}//weights_{postfix}.csv.npy\")\n",
    "  return waves, rand_input, secret_weight"
   ]
  },
  {
   "cell_type": "code",
   "execution_count": null,
   "id": "735e72d8-0aba-4b74-bc7b-eb740934f0c7",
   "metadata": {},
   "outputs": [],
   "source": []
  },
  {
   "cell_type": "code",
   "execution_count": null,
   "id": "df9210c6-db13-4366-bcae-25a16f4d577b",
   "metadata": {},
   "outputs": [],
   "source": []
  },
  {
   "cell_type": "code",
   "execution_count": null,
   "id": "fce79368-b240-43b9-97c8-8973608e003c",
   "metadata": {},
   "outputs": [],
   "source": [
    "print(\"✔️ The File uploader succesfuly imported.\")"
   ]
  }
 ],
 "metadata": {
  "kernelspec": {
   "display_name": "Python 3 (ipykernel)",
   "language": "python",
   "name": "python3"
  },
  "language_info": {
   "codemirror_mode": {
    "name": "ipython",
    "version": 3
   },
   "file_extension": ".py",
   "mimetype": "text/x-python",
   "name": "python",
   "nbconvert_exporter": "python",
   "pygments_lexer": "ipython3",
   "version": "3.9.7"
  }
 },
 "nbformat": 4,
 "nbformat_minor": 5
}
